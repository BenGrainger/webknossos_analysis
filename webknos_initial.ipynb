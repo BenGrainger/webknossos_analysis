{
 "cells": [
  {
   "cell_type": "code",
   "execution_count": 1,
   "metadata": {},
   "outputs": [],
   "source": [
    "import numpy as np\n",
    "\n",
    "import webknossos as wk\n",
    "import wkw\n",
    "import fastremap"
   ]
  },
  {
   "cell_type": "code",
   "execution_count": 2,
   "metadata": {},
   "outputs": [
    {
     "data": {
      "text/plain": [
       "'Dataset(C:\\\\Users\\\\44788\\\\Desktop\\\\coding\\\\pynbs\\\\webnossos\\\\B002_uCT_4x)'"
      ]
     },
     "execution_count": 2,
     "metadata": {},
     "output_type": "execute_result"
    }
   ],
   "source": [
    "# The Dataset class is the entry-point for this API. The dataset stores the data on disk in .wkw-files.\n",
    "\n",
    "data = wk.Dataset.open(r\"C:\\Users\\44788\\Desktop\\coding\\pynbs\\webnossos\\B002_uCT_4x\")\n",
    "data"
   ]
  },
  {
   "cell_type": "code",
   "execution_count": 1,
   "metadata": {},
   "outputs": [],
   "source": [
    "nml = wk.Annotation.load(r'C:\\Users\\44788\\Desktop\\coding\\pynbs\\webnossos\\B002_uCT_4x\\B002_02_uCT_4x__explorational__annotation.zip')\n",
    "# has to be a zip"
   ]
  },
  {
   "cell_type": "markdown",
   "metadata": {},
   "source": [
    "def save_volume_annotation(\n",
    "    nml,\n",
    "    dataset: data,\n",
    "    layer_name: 'volume_annotation'\n",
    ")"
   ]
  },
  {
   "cell_type": "code",
   "execution_count": 92,
   "metadata": {},
   "outputs": [
    {
     "data": {
      "text/plain": [
       "['0']"
      ]
     },
     "execution_count": 92,
     "metadata": {},
     "output_type": "execute_result"
    }
   ],
   "source": [
    "layers = nml.get_volume_layer_names()\n",
    "[l for l in layers]"
   ]
  },
  {
   "cell_type": "code",
   "execution_count": 93,
   "metadata": {},
   "outputs": [
    {
     "data": {
      "text/plain": [
       "'Layer(versaCT, dtype_per_channel=uint8, num_channels=1)'"
      ]
     },
     "execution_count": 93,
     "metadata": {},
     "output_type": "execute_result"
    }
   ],
   "source": [
    "ct_layer = data.get_layer('versaCT')\n",
    "ct_layer"
   ]
  },
  {
   "cell_type": "code",
   "execution_count": 94,
   "metadata": {},
   "outputs": [
    {
     "data": {
      "text/plain": [
       "'MagView(name=1, bounding_box=BoundingBox(topleft=(0, 0, 0), size=(995, 1015, 999)))'"
      ]
     },
     "execution_count": 94,
     "metadata": {},
     "output_type": "execute_result"
    }
   ],
   "source": [
    "mag1 = ct_layer.get_mag(\"1\")\n",
    "mag1"
   ]
  },
  {
   "cell_type": "code",
   "execution_count": 95,
   "metadata": {},
   "outputs": [
    {
     "name": "stdout",
     "output_type": "stream",
     "text": [
      "Found 0 segment id groups with 0 nodes\n",
      "{}\n"
     ]
    }
   ],
   "source": [
    "segment_id_mapping = {}\n",
    "for graph in nml.skeleton.flattened_graphs():\n",
    "    base = None\n",
    "    for node in graph.nodes:\n",
    "        segment_id = in_mag1.read(absolute_offset=node.position, size=(1, 1, 1)).item()\n",
    "        if base is None:\n",
    "            base = segment_id\n",
    "        segment_id_mapping[segment_id] = base\n",
    "\n",
    "print(f\"Found {len(list(nml.skeleton.flattened_graphs()))} segment id groups with {len(segment_id_mapping)} nodes\")\n",
    "print(segment_id_mapping)\n"
   ]
  },
  {
   "cell_type": "code",
   "execution_count": null,
   "metadata": {},
   "outputs": [],
   "source": []
  }
 ],
 "metadata": {
  "kernelspec": {
   "display_name": "Python 3",
   "language": "python",
   "name": "python3"
  },
  "language_info": {
   "codemirror_mode": {
    "name": "ipython",
    "version": 3
   },
   "file_extension": ".py",
   "mimetype": "text/x-python",
   "name": "python",
   "nbconvert_exporter": "python",
   "pygments_lexer": "ipython3",
   "version": "3.7.9"
  }
 },
 "nbformat": 4,
 "nbformat_minor": 4
}
